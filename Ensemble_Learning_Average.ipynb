{
  "nbformat": 4,
  "nbformat_minor": 0,
  "metadata": {
    "colab": {
      "provenance": []
    },
    "kernelspec": {
      "name": "python3",
      "display_name": "Python 3"
    },
    "language_info": {
      "name": "python"
    }
  },
  "cells": [
    {
      "cell_type": "code",
      "execution_count": null,
      "metadata": {
        "colab": {
          "base_uri": "https://localhost:8080/"
        },
        "id": "0PvXp-bGd8xU",
        "outputId": "e9cec883-859f-4b23-ed2d-ba1ff7b1b216"
      },
      "outputs": [
        {
          "output_type": "stream",
          "name": "stdout",
          "text": [
            "Drive already mounted at /content/drive; to attempt to forcibly remount, call drive.mount(\"/content/drive\", force_remount=True).\n",
            "Average Result: [39751.95828128 69113.41056598 58780.23995261 59411.01789165\n",
            " 40382.73622032 60859.3204364 ]\n",
            "MSE in Average method: 12540180.43678481\n"
          ]
        }
      ],
      "source": [
        "import glob\n",
        "from google.colab import drive\n",
        "drive.mount('/content/drive')\n",
        "import pandas as pd\n",
        "from sklearn.model_selection import train_test_split\n",
        "from sklearn.metrics import mean_squared_error\n",
        "\n",
        "# importing machine learning models for prediction\n",
        "from sklearn.ensemble import RandomForestRegressor\n",
        "import xgboost as xgb\n",
        "from sklearn.linear_model import LinearRegression\n",
        "\n",
        "# loading train data set in dataframe from train_data.csv file\n",
        "df = pd.read_csv(\"/content/drive/MyDrive/salary_data.csv\")\n",
        "\n",
        "# getting target data from the dataframe\n",
        "target = df.iloc[:, 1].values\n",
        "\n",
        "# getting train data from the dataframe\n",
        "train = df.iloc[:, 0].values\n",
        "\n",
        "# Splitting between train data into training and validation dataset\n",
        "X_train, X_test, y_train, y_test = train_test_split(\n",
        "\ttrain, target, test_size=0.20)\n",
        "\n",
        "X_train= X_train.reshape(-1, 1)\n",
        "X_test = X_test.reshape(-1, 1)\n",
        "\n",
        "# initializing all the model objects with default parameters\n",
        "model_1 = LinearRegression()\n",
        "model_2 = xgb.XGBRegressor()\n",
        "model_3 = RandomForestRegressor()\n",
        "\n",
        "# training all the model on the training dataset\n",
        "model_1.fit(X_train, y_train)\n",
        "model_2.fit(X_train, y_train)\n",
        "model_3.fit(X_train, y_train)\n",
        "\n",
        "# predicting the output on the validation dataset\n",
        "pred_1 = model_1.predict(X_test)\n",
        "pred_2 = model_2.predict(X_test)\n",
        "pred_3 = model_3.predict(X_test)\n",
        "\n",
        "# final prediction after averaging on the prediction of all 3 models\n",
        "pred_final1 = (pred_1+pred_2+pred_3)/3.0\n",
        "\n",
        "print(\"Average Result:\",pred_final1)\n",
        "\n",
        "\n",
        "\n",
        "# printing the mean squared error between real value and predicted value\n",
        "print(\"MSE in Average method:\",mean_squared_error(y_test, pred_final1))\n",
        "\n"
      ]
    }
  ]
}